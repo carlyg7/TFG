{
 "cells": [
  {
   "cell_type": "markdown",
   "id": "1eb5dc87",
   "metadata": {},
   "source": [
    "## 🎯 Objetivo\n",
    "##### Entrenar un modelo de predicción de calorías quemadas por sesión para cada uno de los 5 clusters que obtuviste con KMeans. Esto nos permite que cada modelo se adapte al perfil de usuario representado en su cluster, mejorando la precisión respecto a usar un solo modelo general."
   ]
  },
  {
   "cell_type": "markdown",
   "id": "746291d2",
   "metadata": {},
   "source": [
    "### Paso 1. Cargar dataset con los clusters asignados\n",
    "\n",
    "* __train_test_split__ divide los datos en entrenamiento y prueba.\n",
    "\n",
    "* __LinearRegression__ y __RandomForestRegressor__ son los modelos a comparar.\n",
    "\n",
    "* __mean_squared_error__ y __r2_score__ son métricas para evaluar los resultados."
   ]
  },
  {
   "cell_type": "code",
   "execution_count": 3,
   "id": "6dda1e6c",
   "metadata": {},
   "outputs": [
    {
     "name": "stdout",
     "output_type": "stream",
     "text": [
      "Index(['id', 'Age', 'Gender', 'Weight (kg)', 'Height (m)', 'Max_BPM',\n",
      "       'Avg_BPM', 'Resting_BPM', 'Session_Duration (hours)', 'Calories_Burned',\n",
      "       'Fat_Percentage', 'Water_Intake (liters)',\n",
      "       'Workout_Frequency (days/week)', 'Experience_Level', 'BMI',\n",
      "       'Workout_Cardio', 'Workout_HIIT', 'Workout_Strength', 'Workout_Yoga',\n",
      "       'cluster'],\n",
      "      dtype='object')\n"
     ]
    }
   ],
   "source": [
    "import pandas as pd\n",
    "import numpy as np\n",
    "import matplotlib.pyplot as plt\n",
    "import seaborn as sns\n",
    "\n",
    "# Para modelos y evaluación\n",
    "from sklearn.model_selection import train_test_split\n",
    "from sklearn.linear_model import LinearRegression\n",
    "from sklearn.ensemble import RandomForestRegressor, GradientBoostingRegressor\n",
    "from sklearn.preprocessing import StandardScaler\n",
    "from sklearn.metrics import mean_squared_error, mean_absolute_error, r2_score\n",
    "\n",
    "\n",
    "# Cargar el dataset que ya incluye los clusters\n",
    "dataset = pd.read_csv(\"dataset_con_clusters.csv\")\n",
    "print(dataset.columns)\n"
   ]
  },
  {
   "cell_type": "markdown",
   "id": "b7d6636b",
   "metadata": {},
   "source": [
    "Este dataset es igual que el anterior, pero incluye una columna con el número de cluster (0 a 4) asignado a cada sesión. Esa columna se generó con KMeans y representa el grupo al que pertenece cada sesión de entrenamiento, según características físicas."
   ]
  },
  {
   "cell_type": "markdown",
   "id": "87ae7d46",
   "metadata": {},
   "source": [
    "### Paso 2: Seleccionar variables para la predicción\n",
    "Aquí vamos a seleccionar como variable objetivo: Calories_Burned, y como variables predictoras todas excepto el ID, Calories_Burned y el cluster.\n"
   ]
  },
  {
   "cell_type": "code",
   "execution_count": 2,
   "id": "72069123",
   "metadata": {},
   "outputs": [],
   "source": [
    "# Variable objetivo\n",
    "target = \"Calories_Burned\"\n",
    "\n",
    "# Variables predictoras (exceptuamos ID, cluster y variable objetivo)\n",
    "excluded = [\"ID\", \"Calories_Burned\", \"cluster\"]\n",
    "features = [col for col in dataset.columns if col not in excluded]"
   ]
  },
  {
   "cell_type": "markdown",
   "id": "77126415",
   "metadata": {},
   "source": [
    "* __target__ es la columna que queremos predecir: las calorías quemadas.\n",
    "\n",
    "* __fuatures__ contiene el resto de variables, excluyendo calorias, cluster e id\n",
    "\n",
    "### Paso 3: Entrenar un modelo para cada cluster\n",
    "\n",
    "Por cada cluster (de 0 a 4), filtramos el dataset, separamos en entrenamiento y prueba, escalamos los datos y entrenamos un modelo. Aquí usaremos GradientBoostingRegressor, pero puedes hacerlo con varios."
   ]
  },
  {
   "cell_type": "code",
   "execution_count": 5,
   "id": "1dad24d8",
   "metadata": {},
   "outputs": [
    {
     "name": "stdout",
     "output_type": "stream",
     "text": [
      "\n",
      "R² Score: mide qué tanto del valor de y se puede explicar con X (ideal cercano a 1).\n",
      "RMSE: mide el error promedio entre las predicciones y los valores reales (más bajo = mejor).\n",
      "\n",
      "--- Cluster 0 ---\n",
      "MAE: 23.07 | MSE: 913.75 | R2: 0.98\n",
      "\n",
      "--- Cluster 1 ---\n",
      "MAE: 16.20 | MSE: 443.95 | R2: 0.99\n",
      "\n",
      "--- Cluster 2 ---\n",
      "MAE: 50.60 | MSE: 4072.46 | R2: 0.78\n",
      "\n",
      "--- Cluster 3 ---\n",
      "MAE: 29.11 | MSE: 1191.22 | R2: 0.98\n",
      "\n",
      "--- Cluster 4 ---\n",
      "MAE: 44.29 | MSE: 3584.89 | R2: 0.89\n"
     ]
    }
   ],
   "source": [
    "\n",
    "\n",
    "# Diccionario para guardar resultados y modelos por cluster\n",
    "resultados_cluster = {}\n",
    "modelos_cluster = {}\n",
    "print(\"\\nR² Score: mide qué tanto del valor de y se puede explicar con X (ideal cercano a 1).\\nRMSE: mide el error promedio entre las predicciones y los valores reales (más bajo = mejor).\")\n",
    "\n",
    "for k in sorted(dataset[\"cluster\"].unique()):\n",
    "    print(f\"\\n--- Cluster {k} ---\")\n",
    "\n",
    "    dataset_k = dataset[dataset[\"cluster\"] == k]\n",
    "\n",
    "    X = dataset_k[features]\n",
    "    y = dataset_k[target]\n",
    "\n",
    "    # División en train/test\n",
    "    X_train, X_test, y_train, y_test = train_test_split(X, y, test_size=0.2, random_state=42)\n",
    "\n",
    "    # Escalado\n",
    "    scaler = StandardScaler()\n",
    "    X_train_scaled = scaler.fit_transform(X_train)\n",
    "    X_test_scaled = scaler.transform(X_test)\n",
    "\n",
    "    # Modelo\n",
    "    model = GradientBoostingRegressor(random_state=42)\n",
    "    model.fit(X_train_scaled, y_train)\n",
    "    y_pred = model.predict(X_test_scaled)\n",
    "\n",
    "    # Evaluación\n",
    "    mse = mean_squared_error(y_test, y_pred)\n",
    "    mae = mean_absolute_error(y_test, y_pred)\n",
    "    r2 = r2_score(y_test, y_pred)\n",
    "\n",
    "    print(f\"MAE: {mae:.2f} | MSE: {mse:.2f} | R2: {r2:.2f}\")\n",
    "\n",
    "    resultados_cluster[k] = {\"MAE\": mae, \"MSE\": mse, \"R2\": r2}\n",
    "    modelos_cluster[k] = model\n"
   ]
  },
  {
   "cell_type": "markdown",
   "id": "173bbfdc",
   "metadata": {},
   "source": [
    "### Paso 4: Comparar resultados entre clusters\n",
    "Creamos una tabla resumen con las métricas de evaluación para cada modelo por cluster.\n"
   ]
  },
  {
   "cell_type": "code",
   "execution_count": 6,
   "id": "0e7a54ba",
   "metadata": {},
   "outputs": [
    {
     "data": {
      "text/html": [
       "<div>\n",
       "<style scoped>\n",
       "    .dataframe tbody tr th:only-of-type {\n",
       "        vertical-align: middle;\n",
       "    }\n",
       "\n",
       "    .dataframe tbody tr th {\n",
       "        vertical-align: top;\n",
       "    }\n",
       "\n",
       "    .dataframe thead th {\n",
       "        text-align: right;\n",
       "    }\n",
       "</style>\n",
       "<table border=\"1\" class=\"dataframe\">\n",
       "  <thead>\n",
       "    <tr style=\"text-align: right;\">\n",
       "      <th></th>\n",
       "      <th>MAE</th>\n",
       "      <th>MSE</th>\n",
       "      <th>R2</th>\n",
       "    </tr>\n",
       "    <tr>\n",
       "      <th>Cluster</th>\n",
       "      <th></th>\n",
       "      <th></th>\n",
       "      <th></th>\n",
       "    </tr>\n",
       "  </thead>\n",
       "  <tbody>\n",
       "    <tr>\n",
       "      <th>0</th>\n",
       "      <td>23.07</td>\n",
       "      <td>913.75</td>\n",
       "      <td>0.98</td>\n",
       "    </tr>\n",
       "    <tr>\n",
       "      <th>1</th>\n",
       "      <td>16.20</td>\n",
       "      <td>443.95</td>\n",
       "      <td>0.99</td>\n",
       "    </tr>\n",
       "    <tr>\n",
       "      <th>2</th>\n",
       "      <td>50.60</td>\n",
       "      <td>4072.46</td>\n",
       "      <td>0.78</td>\n",
       "    </tr>\n",
       "    <tr>\n",
       "      <th>3</th>\n",
       "      <td>29.11</td>\n",
       "      <td>1191.22</td>\n",
       "      <td>0.98</td>\n",
       "    </tr>\n",
       "    <tr>\n",
       "      <th>4</th>\n",
       "      <td>44.29</td>\n",
       "      <td>3584.89</td>\n",
       "      <td>0.89</td>\n",
       "    </tr>\n",
       "  </tbody>\n",
       "</table>\n",
       "</div>"
      ],
      "text/plain": [
       "           MAE      MSE    R2\n",
       "Cluster                      \n",
       "0        23.07   913.75  0.98\n",
       "1        16.20   443.95  0.99\n",
       "2        50.60  4072.46  0.78\n",
       "3        29.11  1191.22  0.98\n",
       "4        44.29  3584.89  0.89"
      ]
     },
     "execution_count": 6,
     "metadata": {},
     "output_type": "execute_result"
    }
   ],
   "source": [
    "import pandas as pd\n",
    "\n",
    "# Tabla con resultados\n",
    "df_resultados = pd.DataFrame(resultados_cluster).T\n",
    "df_resultados.index.name = \"Cluster\"\n",
    "df_resultados = df_resultados.round(2)\n",
    "df_resultados\n"
   ]
  },
  {
   "cell_type": "code",
   "execution_count": 7,
   "id": "0d61a5e4",
   "metadata": {},
   "outputs": [
    {
     "data": {
      "image/png": "[encoded data removed]",
      "text/plain": [
       "<Figure size 1800x500 with 3 Axes>"
      ]
     },
     "metadata": {},
     "output_type": "display_data"
    }
   ],
   "source": [
    "import matplotlib.pyplot as plt\n",
    "\n",
    "# Representar MAE, MSE y R2 por cluster\n",
    "fig, axes = plt.subplots(1, 3, figsize=(18, 5))\n",
    "df_resultados[\"MAE\"].plot(kind='bar', ax=axes[0], color='skyblue', title=\"MAE por Cluster\")\n",
    "df_resultados[\"MSE\"].plot(kind='bar', ax=axes[1], color='salmon', title=\"MSE por Cluster\")\n",
    "df_resultados[\"R2\"].plot(kind='bar', ax=axes[2], color='seagreen', title=\"R² por Cluster\")\n",
    "\n",
    "for ax in axes:\n",
    "    ax.set_xlabel(\"Cluster\")\n",
    "    ax.set_ylabel(\"Valor\")\n",
    "    ax.grid(True)\n",
    "\n",
    "plt.tight_layout()\n",
    "plt.show()\n"
   ]
  },
  {
   "cell_type": "code",
   "execution_count": null,
   "id": "d532eeac",
   "metadata": {},
   "outputs": [],
   "source": []
  }
 ],
 "metadata": {
  "kernelspec": {
   "display_name": "base",
   "language": "python",
   "name": "python3"
  },
  "language_info": {
   "codemirror_mode": {
    "name": "ipython",
    "version": 3
   },
   "file_extension": ".py",
   "mimetype": "text/x-python",
   "name": "python",
   "nbconvert_exporter": "python",
   "pygments_lexer": "ipython3",
   "version": "3.11.5"
  }
 },
 "nbformat": 4,
 "nbformat_minor": 5
}
